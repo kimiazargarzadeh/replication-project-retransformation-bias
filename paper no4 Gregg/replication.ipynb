{
 "cells": [
  {
   "cell_type": "markdown",
   "metadata": {},
   "source": [
    "# Gregg (2020) Replication\n",
    "\n",
    "This notebook replicates the main results from Gregg (2020) on factory productivity and incorporation in late Imperial Russia."
   ]
  },
  {
   "cell_type": "code",
   "execution_count": 36,
   "metadata": {},
   "outputs": [
    {
     "name": "stdout",
     "output_type": "stream",
     "text": [
      "All packages imported successfully!\n"
     ]
    }
   ],
   "source": [
    "# === IMPORTS ===\n",
    "import pandas as pd\n",
    "import statsmodels.formula.api as smf\n",
    "import statsmodels.api as sm\n",
    "\n",
    "print(\"All packages imported successfully!\")"
   ]
  },
  {
   "cell_type": "code",
   "execution_count": 37,
   "metadata": {},
   "outputs": [
    {
     "name": "stdout",
     "output_type": "stream",
     "text": [
      "Data loaded successfully! Shape: (40288, 65)\n",
      "Columns: ['id', 'Form', 'PSZ', 'PSZ1900', 'FoundingYear', 'Province', 'Region', 'Industry', 'OntheSide', 'Age', 'TaxedActivity', 'YEAR', 'PSZLastYear', 'PSZ1908', 'SubindustryCode', 'STCAP', 'Revenue', 'TotalWorkers', 'TotalPower', 'GrandTotalWorkers', 'RevperWorker', 'PowerperWorker', 'RevperGrandWorker', 'PowerperGrandWorker', 'logRevperWorker', 'logPowerperWorker', 'logRevperGrandWorker', 'logPowerperGrandWorker', 'logRev', 'logWorkers', 'logPower', 'RegIndGroup', 'RegIndYearGroup', 'ProvIndGroup', 'ProvIndYearGroup', 'IndYearGroup', 'IndustryFactor', 'ProvinceFactor', 'YearFactor', 'AKTS', 'PAI', 'factory_id', 'FormNextYear', 'FormNextNextYear', 'FactoryisCorpin1894', 'FormNextYearin1894', 'FactoryisCorpin1900', 'FormNextYearin1900', 'FactoryisCorpin1908', 'NEWDEV', 'SHARES', 'STPRICE', 'BONDS', 'Silk', 'Flax', 'Animal', 'Wool', 'Cotton', 'MixedMaterials', 'Wood', 'Paper', 'MetalsandMachines', 'Foods', 'Chemical', 'Mineral']\n"
     ]
    }
   ],
   "source": [
    "# === LOAD DATA ===\n",
    "df = pd.read_stata(\"AG_Corp_Prod_Database.dta\")\n",
    "print(f\"Data loaded successfully! Shape: {df.shape}\")\n",
    "print(f\"Columns: {list(df.columns)}\")"
   ]
  },
  {
   "cell_type": "code",
   "execution_count": 38,
   "metadata": {},
   "outputs": [
    {
     "name": "stdout",
     "output_type": "stream",
     "text": [
      "\n",
      "=== Table 3 Coefficient on Form (pooled OLS) ===\n",
      "Coefficient: 0.4900\n",
      "Std Error: 0.0195\n"
     ]
    }
   ],
   "source": [
    "# === TABLE 3 CHECK: Pooled OLS ===\n",
    "df_check = df.dropna(subset=[\"logRevperWorker\", \"Form\", \"Industry\", \"Province\", \"YEAR\"])\n",
    "model_check = smf.ols(\n",
    "    formula=\"logRevperWorker ~ Form + C(Industry) + C(Province) + C(YEAR)\",\n",
    "    data=df_check\n",
    ").fit(cov_type=\"HC1\")\n",
    "\n",
    "print(\"\\n=== Table 3 Coefficient on Form (pooled OLS) ===\")\n",
    "print(f\"Coefficient: {model_check.params['Form']:.4f}\")\n",
    "print(f\"Std Error: {model_check.bse['Form']:.4f}\")"
   ]
  },
  {
   "cell_type": "code",
   "execution_count": 39,
   "metadata": {},
   "outputs": [
    {
     "name": "stdout",
     "output_type": "stream",
     "text": [
      "TFP calculation dataset shape: (15435, 65)\n",
      "TFP calculated successfully (Stata-style, no fixed effects)!\n"
     ]
    }
   ],
   "source": [
    "# === STEP 1: Construct TFP as residuals (Stata-style: no fixed effects) ===\n",
    "\n",
    "# Filter for valid observations\n",
    "df_tfp = df.dropna(subset=[\"logRev\", \"logWorkers\", \"logPower\", \"id\"]).copy()\n",
    "\n",
    "# Ensure numeric data types\n",
    "df_tfp[\"logRev\"] = pd.to_numeric(df_tfp[\"logRev\"], errors=\"coerce\")\n",
    "df_tfp[\"logWorkers\"] = pd.to_numeric(df_tfp[\"logWorkers\"], errors=\"coerce\")\n",
    "df_tfp[\"logPower\"] = pd.to_numeric(df_tfp[\"logPower\"], errors=\"coerce\")\n",
    "\n",
    "# Drop any new NaNs\n",
    "df_tfp = df_tfp.dropna(subset=[\"logRev\", \"logWorkers\", \"logPower\"])\n",
    "\n",
    "print(f\"TFP calculation dataset shape: {df_tfp.shape}\")\n",
    "\n",
    "# Run Cobb-Douglas regression: logRev ~ logWorkers + logPower (NO FIXED EFFECTS)\n",
    "X = df_tfp[[\"logWorkers\", \"logPower\"]]\n",
    "X = sm.add_constant(X)\n",
    "y = df_tfp[\"logRev\"]\n",
    "\n",
    "X = X.astype(float)\n",
    "y = y.astype(float)\n",
    "\n",
    "model = sm.OLS(y, X).fit()\n",
    "df_tfp[\"TFP\"] = model.resid\n",
    "\n",
    "# Merge TFP into main dataframe\n",
    "df = df.merge(df_tfp[[\"id\", \"TFP\"]], on=\"id\", how=\"left\")\n",
    "\n",
    "print(\"TFP calculated successfully (Stata-style, no fixed effects)!\")\n",
    "\n"
   ]
  },
  {
   "cell_type": "code",
   "execution_count": 40,
   "metadata": {},
   "outputs": [
    {
     "name": "stdout",
     "output_type": "stream",
     "text": [
      "Fixed effects dataset shape: (15435, 66)\n",
      "\n",
      "=== Table 5 Fixed Effects Results ===\n",
      "\n",
      "Outcome: logRevperWorker\n",
      "  Coefficient: 0.322\n",
      "  Std. Error:  0.032\n",
      "  P-value:     0.0000\n",
      "  95% CI:      [0.260, 0.385]\n",
      "\n",
      "Outcome: logPowerperWorker\n",
      "  Coefficient: -0.010\n",
      "  Std. Error:  0.036\n",
      "  P-value:     0.7816\n",
      "  95% CI:      [-0.081, 0.061]\n",
      "\n",
      "Outcome: TFP\n",
      "  Coefficient: 0.056\n",
      "  Std. Error:  0.030\n",
      "  P-value:     0.0652\n",
      "  95% CI:      [-0.004, 0.116]\n"
     ]
    }
   ],
   "source": [
    "# === STEP 2: FIXED EFFECTS REGRESSIONS (Table 5) ===\n",
    "outcomes = [\"logRevperWorker\", \"logPowerperWorker\", \"TFP\"]\n",
    "df_fe = df.dropna(subset=outcomes + [\"Form\", \"YEAR\", \"factory_id\"]).copy()\n",
    "\n",
    "# Convert outcome variables to numeric\n",
    "for outcome in outcomes:\n",
    "    if outcome in df_fe.columns:\n",
    "        df_fe[outcome] = pd.to_numeric(df_fe[outcome], errors='coerce')\n",
    "\n",
    "# Drop rows with NaN in outcome variables\n",
    "df_fe = df_fe.dropna(subset=outcomes)\n",
    "\n",
    "print(f\"Fixed effects dataset shape: {df_fe.shape}\")\n",
    "print(\"\\n=== Table 5 Fixed Effects Results ===\")\n",
    "\n",
    "for outcome in outcomes:\n",
    "    if outcome in df_fe.columns:\n",
    "        model = smf.ols(\n",
    "            formula=f\"{outcome} ~ Form + C(YEAR)\",\n",
    "            data=df_fe\n",
    "        ).fit(cov_type=\"cluster\", cov_kwds={\"groups\": df_fe[\"factory_id\"]})\n",
    "\n",
    "        coef = model.params[\"Form\"]\n",
    "        se = model.bse[\"Form\"]\n",
    "        pval = model.pvalues[\"Form\"]\n",
    "        ci = model.conf_int().loc[\"Form\"].tolist()\n",
    "\n",
    "        print(f\"\\nOutcome: {outcome}\")\n",
    "        print(f\"  Coefficient: {coef:.3f}\")\n",
    "        print(f\"  Std. Error:  {se:.3f}\")\n",
    "        print(f\"  P-value:     {pval:.4f}\")\n",
    "        print(f\"  95% CI:      [{ci[0]:.3f}, {ci[1]:.3f}]\")\n",
    "    else:\n",
    "        print(f\"\\nOutcome: {outcome} - Column not found in dataset\")"
   ]
  }
 ],
 "metadata": {
  "kernelspec": {
   "display_name": "Python 3",
   "language": "python",
   "name": "python3"
  },
  "language_info": {
   "codemirror_mode": {
    "name": "ipython",
    "version": 3
   },
   "file_extension": ".py",
   "mimetype": "text/x-python",
   "name": "python",
   "nbconvert_exporter": "python",
   "pygments_lexer": "ipython3",
   "version": "3.8.5"
  }
 },
 "nbformat": 4,
 "nbformat_minor": 4
}
