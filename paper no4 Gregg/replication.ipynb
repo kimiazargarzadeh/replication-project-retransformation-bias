{
 "cells": [
  {
   "cell_type": "markdown",
   "metadata": {},
   "source": [
    "# Gregg (2020) Replication\n",
    "\n",
    "This notebook replicates the main results from Gregg (2020) on factory productivity and incorporation in late Imperial Russia."
   ]
  },
  {
   "cell_type": "code",
   "execution_count": 8,
   "metadata": {},
   "outputs": [],
   "source": [
    "# === IMPORTS ===\n",
    "import pandas as pd\n",
    "import statsmodels.formula.api as smf\n",
    "import statsmodels.api as sm"
   ]
  },
  {
   "cell_type": "code",
   "execution_count": 9,
   "metadata": {},
   "outputs": [
    {
     "name": "stdout",
     "output_type": "stream",
     "text": [
      "Data loaded successfully! Shape: (40288, 65)\n",
      "Columns: ['id', 'Form', 'PSZ', 'PSZ1900', 'FoundingYear', 'Province', 'Region', 'Industry', 'OntheSide', 'Age', 'TaxedActivity', 'YEAR', 'PSZLastYear', 'PSZ1908', 'SubindustryCode', 'STCAP', 'Revenue', 'TotalWorkers', 'TotalPower', 'GrandTotalWorkers', 'RevperWorker', 'PowerperWorker', 'RevperGrandWorker', 'PowerperGrandWorker', 'logRevperWorker', 'logPowerperWorker', 'logRevperGrandWorker', 'logPowerperGrandWorker', 'logRev', 'logWorkers', 'logPower', 'RegIndGroup', 'RegIndYearGroup', 'ProvIndGroup', 'ProvIndYearGroup', 'IndYearGroup', 'IndustryFactor', 'ProvinceFactor', 'YearFactor', 'AKTS', 'PAI', 'factory_id', 'FormNextYear', 'FormNextNextYear', 'FactoryisCorpin1894', 'FormNextYearin1894', 'FactoryisCorpin1900', 'FormNextYearin1900', 'FactoryisCorpin1908', 'NEWDEV', 'SHARES', 'STPRICE', 'BONDS', 'Silk', 'Flax', 'Animal', 'Wool', 'Cotton', 'MixedMaterials', 'Wood', 'Paper', 'MetalsandMachines', 'Foods', 'Chemical', 'Mineral']\n"
     ]
    }
   ],
   "source": [
    "# === LOAD DATA ===\n",
    "df = pd.read_stata(\"AG_Corp_Prod_Database.dta\")\n",
    "print(f\"Data loaded successfully! Shape: {df.shape}\")\n",
    "print(f\"Columns: {list(df.columns)}\")"
   ]
  },
  {
   "cell_type": "code",
   "execution_count": 10,
   "metadata": {},
   "outputs": [
    {
     "name": "stdout",
     "output_type": "stream",
     "text": [
      "\n",
      "=== Table 3 Coefficient on Form (pooled OLS) ===\n",
      "Coefficient: 0.4900\n",
      "Std Error: 0.0195\n"
     ]
    }
   ],
   "source": [
    "# === TABLE 3 CHECK: Pooled OLS ===\n",
    "df_check = df.dropna(subset=[\"logRevperWorker\", \"Form\", \"Industry\", \"Province\", \"YEAR\"])\n",
    "model_check = smf.ols(\n",
    "    formula=\"logRevperWorker ~ Form + C(Industry) + C(Province) + C(YEAR)\",\n",
    "    data=df_check\n",
    ").fit(cov_type=\"HC1\")\n",
    "\n",
    "print(\"\\n=== Table 3 Coefficient on Form (pooled OLS) ===\")\n",
    "print(f\"Coefficient: {model_check.params['Form']:.4f}\")\n",
    "print(f\"Std Error: {model_check.bse['Form']:.4f}\")"
   ]
  },
  {
   "cell_type": "code",
   "execution_count": 11,
   "metadata": {},
   "outputs": [
    {
     "name": "stdout",
     "output_type": "stream",
     "text": [
      "TFP calculation dataset shape: (15435, 65)\n"
     ]
    }
   ],
   "source": [
    "# === STEP 1: Construct TFP as residuals (Stata-style: no fixed effects) ===\n",
    "\n",
    "# Filter for valid observations\n",
    "df_tfp = df.dropna(subset=[\"logRev\", \"logWorkers\", \"logPower\", \"id\"]).copy()\n",
    "\n",
    "# Ensure numeric data types\n",
    "df_tfp[\"logRev\"] = pd.to_numeric(df_tfp[\"logRev\"], errors=\"coerce\")\n",
    "df_tfp[\"logWorkers\"] = pd.to_numeric(df_tfp[\"logWorkers\"], errors=\"coerce\")\n",
    "df_tfp[\"logPower\"] = pd.to_numeric(df_tfp[\"logPower\"], errors=\"coerce\")\n",
    "\n",
    "# Drop any new NaNs\n",
    "df_tfp = df_tfp.dropna(subset=[\"logRev\", \"logWorkers\", \"logPower\"])\n",
    "\n",
    "print(f\"TFP calculation dataset shape: {df_tfp.shape}\")\n",
    "\n",
    "# Run Cobb-Douglas regression: logRev ~ logWorkers + logPower (NO FIXED EFFECTS)\n",
    "X = df_tfp[[\"logWorkers\", \"logPower\"]]\n",
    "X = sm.add_constant(X)\n",
    "y = df_tfp[\"logRev\"]\n",
    "\n",
    "X = X.astype(float)\n",
    "y = y.astype(float)\n",
    "\n",
    "model = sm.OLS(y, X).fit()\n",
    "df_tfp[\"TFP\"] = model.resid\n",
    "\n",
    "# Merge TFP into main dataframe\n",
    "df = df.merge(df_tfp[[\"id\", \"TFP\"]], on=\"id\", how=\"left\")\n",
    "\n"
   ]
  },
  {
   "cell_type": "code",
   "execution_count": 12,
   "metadata": {},
   "outputs": [
    {
     "name": "stdout",
     "output_type": "stream",
     "text": [
      "Fixed effects dataset shape: (15435, 64)\n",
      "\n",
      "=== Table 5 Fixed Effects Results (with PanelOLS and RegIndGroup clustering) ===\n",
      "\n",
      "Outcome: logRevperWorker\n",
      "  Coefficient: 0.269\n",
      "  Std. Error:  0.161\n",
      "  P-value:     0.0954\n",
      "  95% CI:      [-0.047, 0.585]\n",
      "\n",
      "Outcome: logPowerperWorker\n",
      "  Coefficient: 0.285\n",
      "  Std. Error:  0.232\n",
      "  P-value:     0.2199\n",
      "  95% CI:      [-0.171, 0.741]\n",
      "\n",
      "Outcome: TFP\n",
      "  Coefficient: 0.086\n",
      "  Std. Error:  0.179\n",
      "  P-value:     0.6325\n",
      "  95% CI:      [-0.266, 0.437]\n"
     ]
    }
   ],
   "source": [
    "# === STEP 2: FIXED EFFECTS REGRESSIONS (Table 5 using PanelOLS with RegIndGroup clustering) ===\n",
    "from linearmodels.panel import PanelOLS\n",
    "import statsmodels.api as sm\n",
    "\n",
    "# Define outcomes\n",
    "outcomes = [\"logRevperWorker\", \"logPowerperWorker\", \"TFP\"]\n",
    "\n",
    "# Drop rows with missing values\n",
    "df_fe = df.dropna(subset=outcomes + [\"Form\", \"YEAR\", \"factory_id\", \"Province\", \"Industry\"]).copy()\n",
    "\n",
    "# Convert to numeric\n",
    "for outcome in outcomes:\n",
    "    df_fe[outcome] = pd.to_numeric(df_fe[outcome], errors='coerce')\n",
    "\n",
    "df_fe = df_fe.dropna(subset=outcomes)\n",
    "\n",
    "# Step 1: Create RegIndGroup for clustering\n",
    "df_fe[\"RegIndGroup\"] = df_fe[\"Province\"].astype(str) + \"_\" + df_fe[\"Industry\"].astype(str)\n",
    "\n",
    "# Step 2: Set panel index\n",
    "df_fe = df_fe.set_index([\"factory_id\", \"YEAR\"])\n",
    "\n",
    "print(f\"Fixed effects dataset shape: {df_fe.shape}\")\n",
    "print(\"\\n=== Table 5 Fixed Effects Results (with PanelOLS and RegIndGroup clustering) ===\")\n",
    "\n",
    "# Step 3: Run PanelOLS regressions\n",
    "for outcome in outcomes:\n",
    "    exog = sm.add_constant(df_fe[\"Form\"])\n",
    "    model = PanelOLS(df_fe[outcome], exog, entity_effects=True)\n",
    "    result = model.fit(cov_type=\"clustered\", clusters=df_fe[\"RegIndGroup\"])\n",
    "\n",
    "    coef = result.params[\"Form\"]\n",
    "    se = result.std_errors[\"Form\"]\n",
    "    pval = result.pvalues[\"Form\"]\n",
    "    ci_low, ci_high = result.conf_int().loc[\"Form\"]\n",
    "\n",
    "    print(f\"\\nOutcome: {outcome}\")\n",
    "    print(f\"  Coefficient: {coef:.3f}\")\n",
    "    print(f\"  Std. Error:  {se:.3f}\")\n",
    "    print(f\"  P-value:     {pval:.4f}\")\n",
    "    print(f\"  95% CI:      [{ci_low:.3f}, {ci_high:.3f}]\")\n"
   ]
  }
 ],
 "metadata": {
  "kernelspec": {
   "display_name": "Python 3",
   "language": "python",
   "name": "python3"
  },
  "language_info": {
   "codemirror_mode": {
    "name": "ipython",
    "version": 3
   },
   "file_extension": ".py",
   "mimetype": "text/x-python",
   "name": "python",
   "nbconvert_exporter": "python",
   "pygments_lexer": "ipython3",
   "version": "3.8.5"
  }
 },
 "nbformat": 4,
 "nbformat_minor": 4
}
